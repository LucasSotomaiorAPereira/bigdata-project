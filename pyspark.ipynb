{
  "nbformat": 4,
  "nbformat_minor": 0,
  "metadata": {
    "colab": {
      "provenance": []
    },
    "kernelspec": {
      "name": "python3",
      "display_name": "Python 3"
    },
    "language_info": {
      "name": "python"
    }
  },
  "cells": [
    {
      "cell_type": "code",
      "source": [
        "!pip install findspark pyspark"
      ],
      "metadata": {
        "colab": {
          "base_uri": "https://localhost:8080/"
        },
        "id": "nPAMFkma_PwQ",
        "outputId": "96e76460-2c80-474a-f2b1-08e4338520a7"
      },
      "execution_count": null,
      "outputs": [
        {
          "output_type": "stream",
          "name": "stdout",
          "text": [
            "Requirement already satisfied: findspark in /usr/local/lib/python3.10/dist-packages (2.0.1)\n",
            "Requirement already satisfied: pyspark in /usr/local/lib/python3.10/dist-packages (3.5.3)\n",
            "Requirement already satisfied: py4j==0.10.9.7 in /usr/local/lib/python3.10/dist-packages (from pyspark) (0.10.9.7)\n"
          ]
        }
      ]
    },
    {
      "cell_type": "code",
      "execution_count": null,
      "metadata": {
        "id": "HAx_0Nib8xBF"
      },
      "outputs": [],
      "source": [
        "import findspark\n",
        "findspark.init()\n",
        "findspark.find()\n",
        "from pyspark import SparkConf, SparkContext\n",
        "import re\n",
        "\n",
        "conf = SparkConf().setAppName(\"TDE 3 - Spark Implementation\").setMaster(\"local[*]\")\n",
        "sc = SparkContext.getOrCreate(conf=conf)\n",
        "\n",
        "rdd = sc.textFile(\"CarFuelandEmissions2000_2013.csv\")\n",
        "\n",
        "header = rdd.first()\n",
        "rdd = rdd.filter(lambda x: x != header)\n",
        "\n",
        "def split_line(line):\n",
        "    return re.split(r\",(?=(?:[^\\\"]*\\\"[^\\\"]*\\\")*[^\\\"]*$)\", line)"
      ]
    },
    {
      "cell_type": "code",
      "source": [
        "# Emissão total de monoxido de carbono\n",
        "emissao_total = rdd \\\n",
        "    .map(split_line) \\\n",
        "    .filter(lambda cols: len(cols) > 20 and cols[20] != '') \\\n",
        "    .map(lambda cols: float(cols[20])) \\\n",
        "    .sum()\n",
        "\n",
        "print(f\"Emissão total de CO2: {emissao_total}\")"
      ],
      "metadata": {
        "colab": {
          "base_uri": "https://localhost:8080/"
        },
        "id": "sxIZHU5AB7AA",
        "outputId": "320b393e-3975-409b-d2d9-1b74a18dbac6"
      },
      "execution_count": null,
      "outputs": [
        {
          "output_type": "stream",
          "name": "stdout",
          "text": [
            "Emissão total de CO2: 16950839.601\n"
          ]
        }
      ]
    },
    {
      "cell_type": "code",
      "source": [
        "# Média de barulho dos carros manuais\n",
        "ruido_manual = rdd \\\n",
        "    .map(split_line) \\\n",
        "    .filter(lambda cols: len(cols) > 17 and cols[8] == \"Manual\" and cols[17] != '') \\\n",
        "    .map(lambda cols: float(cols[17]))\n",
        "\n",
        "media_ruido_manual = ruido_manual.sum() / ruido_manual.count()\n",
        "print(f\"Média de ruído para carros manuais: {media_ruido_manual}\")"
      ],
      "metadata": {
        "colab": {
          "base_uri": "https://localhost:8080/"
        },
        "id": "E1OEzDahCA8E",
        "outputId": "f817186c-64b2-4177-823e-cb551845f7dc"
      },
      "execution_count": null,
      "outputs": [
        {
          "output_type": "stream",
          "name": "stdout",
          "text": [
            "Média de ruído para carros manuais: 72.42211577964541\n"
          ]
        }
      ]
    },
    {
      "cell_type": "code",
      "source": [
        "# Contagem de modelos dos carros\n",
        "contagem_modelo_carro = rdd \\\n",
        "    .map(split_line) \\\n",
        "    .map(lambda cols: (cols[3].replace(\"\\\"\", \"\"), 1)) \\\n",
        "    .reduceByKey(lambda x, y: x + y)\n",
        "\n",
        "print(\"Contagem de cada modelo de carro (limit 5):\")\n",
        "contagem_modelo_carro.take(5)"
      ],
      "metadata": {
        "colab": {
          "base_uri": "https://localhost:8080/"
        },
        "id": "EzLXGdlYCCp9",
        "outputId": "ea68a008-5276-4675-fce3-3544a10834eb"
      },
      "execution_count": null,
      "outputs": [
        {
          "output_type": "stream",
          "name": "stdout",
          "text": [
            "Contagem de cada modelo de carro (limit 5):\n"
          ]
        },
        {
          "output_type": "execute_result",
          "data": {
            "text/plain": [
              "[('156 Range', 7),\n",
              " ('Spider/GTV', 12),\n",
              " ('Aston Martin', 15),\n",
              " ('Audi A6 (Saloon, Avant, SE & Quattro)', 15),\n",
              " ('Audi A8 (Sport, Quattro & Quattro Sport)', 4)]"
            ]
          },
          "metadata": {},
          "execution_count": 6
        }
      ]
    },
    {
      "cell_type": "code",
      "source": [
        "# Media Km/L combinado (Cidade e Rodovia)\n",
        "consumo_combustivel = rdd \\\n",
        "    .map(split_line) \\\n",
        "    .filter(lambda cols: len(cols) > 13 and cols[13] != '') \\\n",
        "    .map(lambda cols: float(cols[13]))\n",
        "\n",
        "media_consumo = consumo_combustivel.sum() / consumo_combustivel.count()\n",
        "print(f\"Média de consumo de combustível (Combined Metric): {media_consumo}\")"
      ],
      "metadata": {
        "colab": {
          "base_uri": "https://localhost:8080/"
        },
        "id": "wwWnbPRtCEB4",
        "outputId": "2c8a5279-f874-4236-ce7b-e94737186954"
      },
      "execution_count": null,
      "outputs": [
        {
          "output_type": "stream",
          "name": "stdout",
          "text": [
            "Média de consumo de combustível (Combined Metric): 7.72196290436003\n"
          ]
        }
      ]
    },
    {
      "cell_type": "code",
      "source": [
        "# Carro mais econômico por tipo de combustível\n",
        "maior_distancia = rdd.map(split_line) \\\n",
        "    .filter(lambda cols: len(cols) > 13 and cols[13] != \"\") \\\n",
        "    .map(lambda cols: (cols[10].replace(\"\\\"\", \"\"), (cols[3].replace(\"\\\"\", \"\"), float(cols[13] if cols[13] != \"\" else 0)))) \\\n",
        "    .reduceByKey(lambda x, y: x if x[1] > y[1] else y)\n",
        "\n",
        "print(\"Maior distância percorrida por tipo de combustível (limit 5):\")\n",
        "maior_distancia.take(5)"
      ],
      "metadata": {
        "colab": {
          "base_uri": "https://localhost:8080/"
        },
        "id": "lOluJsxYeXzD",
        "outputId": "27163a3e-096c-493b-dce4-a9ba701a82f4"
      },
      "execution_count": null,
      "outputs": [
        {
          "output_type": "stream",
          "name": "stdout",
          "text": [
            "Maior distância percorrida por tipo de combustível (limit 5):\n"
          ]
        },
        {
          "output_type": "execute_result",
          "data": {
            "text/plain": [
              "[('Diesel', ('B-Class, Model Year 2013', 44.0)),\n",
              " ('LPG', ('Shogun Sport', 16.8)),\n",
              " ('Petrol Hybrid', ('LS MY2011', 9.3)),\n",
              " ('CNG', ('S80 Model Year 2002', 10.5)),\n",
              " ('LPG / Petrol', ('Zafira, MY2005', 11.4))]"
            ]
          },
          "metadata": {},
          "execution_count": 18
        }
      ]
    },
    {
      "cell_type": "code",
      "source": [
        "# Média de emissão de CO2 por fabricante\n",
        "avg_emissao_fabricante = rdd.map(split_line) \\\n",
        "    .filter(lambda cols: len(cols) > 13 and cols[2] != \"\") \\\n",
        "    .map(lambda cols: (cols[2].replace(\"\\\"\", \"\"), (float(cols[18] if cols[18] != \"\" else 0), 1))) \\\n",
        "    .reduceByKey(lambda x, y: (x[0] + y[0], x[1] + y[1])) \\\n",
        "    .mapValues(lambda x: x[0] / x[1])\n",
        "\n",
        "print(\"Média de emissão de CO2 por fabricante (limit 5):\")\n",
        "avg_emissao_fabricante.take(5)"
      ],
      "metadata": {
        "colab": {
          "base_uri": "https://localhost:8080/"
        },
        "id": "xDrtXEOufm1F",
        "outputId": "f8f274e5-6349-449d-c35a-1b6403cebb4c"
      },
      "execution_count": null,
      "outputs": [
        {
          "output_type": "stream",
          "name": "stdout",
          "text": [
            "Média de emissão de CO2 por fabricante (limit 5):\n"
          ]
        },
        {
          "output_type": "execute_result",
          "data": {
            "text/plain": [
              "[('Alfa Romeo', 207.60645161290321),\n",
              " ('Aston Martin Lagonda', 371.6190476190476),\n",
              " ('Citroen', 160.11764705882354),\n",
              " ('Daewoo Cars', 216.93589743589743),\n",
              " ('Daihatsu', 158.36094674556213)]"
            ]
          },
          "metadata": {},
          "execution_count": 9
        }
      ]
    },
    {
      "cell_type": "code",
      "source": [
        "# Imposto médio padrão e no primeiro ano por veículo\n",
        "imposto_medio = rdd.map(split_line) \\\n",
        "    .filter(lambda cols: len(cols) > 29 and cols[3] != \"\") \\\n",
        "    .map(lambda cols: (cols[3].replace(\"\\\"\", \"\"), \\\n",
        "      (float(cols[26] if cols[26] != \"\" else 0), \\\n",
        "      float(cols[27] if cols[27] != \"\" else 0), \\\n",
        "      float(cols[28] if cols[28] != \"\" else 0), \\\n",
        "      float(cols[29] if cols[29] != \"\" else 0), 1, 1, 1, 1))) \\\n",
        "    .reduceByKey(lambda x,y: (x[0] + y[0], x[1] + y[1], x[2] + y[2], x[3] + y[3], x[4] + y[4], x[5] + y[5], x[6] + y[6], x[7] + y[7])) \\\n",
        "    .mapValues(lambda x: (x[0] / x[4], x[1] / x[5], x[2] / x[6], x[3] / x[7])) \\\n",
        "    .sortBy(lambda x: x[1], ascending=False)\n",
        "\n",
        "print(\"Custo médio de cada tipo de combustível (limit 5):\")\n",
        "imposto_medio.take(5)"
      ],
      "metadata": {
        "colab": {
          "base_uri": "https://localhost:8080/"
        },
        "id": "l-RAMUh6WZ9Y",
        "outputId": "75342c12-44c5-4c66-df67-dbae3a3ebab8"
      },
      "execution_count": null,
      "outputs": [
        {
          "output_type": "stream",
          "name": "stdout",
          "text": [
            "Custo médio de cada tipo de combustível (limit 5):\n"
          ]
        },
        {
          "output_type": "execute_result",
          "data": {
            "text/plain": [
              "[('V8 Vantage MY2011', (475.0, 261.25, 1030.0, 0.0)),\n",
              " ('Virage MY2012', (475.0, 261.25, 1030.0, 0.0)),\n",
              " ('Grand Sport Coupé Model Year 2012', (475.0, 261.25, 1030.0, 0.0)),\n",
              " ('Z06 Model Year 2012', (475.0, 261.25, 1030.0, 0.0)),\n",
              " ('FX Model Year 2009', (475.0, 261.25, 1030.0, 0.0))]"
            ]
          },
          "metadata": {},
          "execution_count": 10
        }
      ]
    },
    {
      "cell_type": "code",
      "source": [
        "# Tipo de combustível e seu custo médio para 6000 e 12000 milhas\n",
        "custo_combustivel = rdd.map(split_line) \\\n",
        "    .filter(lambda cols: len(cols) > 25 and cols[10] != \"\") \\\n",
        "    .map(lambda cols: (cols[10].replace(\"\\\"\", \"\"),\n",
        "     (float(cols[24] if cols[24] != \"\" else 0), float(cols[25] if cols[25] != \"\" else 0), 1, 1))) \\\n",
        "    .reduceByKey(lambda x,y: (x[0] + y[0], x[1] + y[1], x[2] + y[2], x[3] + y[3])) \\\n",
        "    .mapValues(lambda x: (x[0] / x[2], x[1] / x[3]))\n",
        "\n",
        "print(\"Custo médio de cada tipo de combustível (limit 5):\")\n",
        "custo_combustivel.take(5)"
      ],
      "metadata": {
        "colab": {
          "base_uri": "https://localhost:8080/"
        },
        "id": "Q9n2m8esPrU3",
        "outputId": "42493eb2-6f83-4631-e5ee-3a8310cc7203"
      },
      "execution_count": null,
      "outputs": [
        {
          "output_type": "stream",
          "name": "stdout",
          "text": [
            "Custo médio de cada tipo de combustível (limit 5):\n"
          ]
        },
        {
          "output_type": "execute_result",
          "data": {
            "text/plain": [
              "[('Diesel', (1118.1072178297404, 86.60656583018219)),\n",
              " ('LPG', (277.89115646258506, 238.69387755102042)),\n",
              " ('Petrol Hybrid', (1135.9236641221373, 2.7022900763358777)),\n",
              " ('CNG', (70.35483870967742, 0.0)),\n",
              " ('LPG / Petrol', (561.1538461538462, 0.0))]"
            ]
          },
          "metadata": {},
          "execution_count": 23
        }
      ]
    },
    {
      "cell_type": "code",
      "source": [
        "# Maior quantidade de euro standard\n",
        "maior_qtd_euro_standard = rdd.map(split_line) \\\n",
        "    .filter(lambda cols: len(cols) > 5 and cols[5] != \"\") \\\n",
        "    .map(lambda cols: (cols[5].replace(\"\\\"\", \"\"), 1)) \\\n",
        "    .reduceByKey(lambda x,y: x + y) \\\n",
        "    .reduce(lambda x,y: x if x[1] > y[1] else y)\n",
        "\n",
        "print(\"Maior quantidade de euro standard:\")\n",
        "maior_qtd_euro_standard"
      ],
      "metadata": {
        "colab": {
          "base_uri": "https://localhost:8080/"
        },
        "id": "2QJ8m8nrf1BA",
        "outputId": "be22e9dc-e1ee-4850-ea43-ec4872f1f7ce"
      },
      "execution_count": null,
      "outputs": [
        {
          "output_type": "stream",
          "name": "stdout",
          "text": [
            "Maior quantidade de euro standard:\n"
          ]
        },
        {
          "output_type": "execute_result",
          "data": {
            "text/plain": [
              "('4', 20269)"
            ]
          },
          "metadata": {},
          "execution_count": 12
        }
      ]
    },
    {
      "cell_type": "code",
      "source": [
        "# Média de variação de emissão de CO2 por ano por marca\n",
        "def map_data(line):\n",
        "  colunas = split_line(line)\n",
        "  year = int(colunas[1])\n",
        "  manufacturer = colunas[2]\n",
        "  co2 = float(colunas[18])\n",
        "  return (manufacturer, year), co2\n",
        "\n",
        "def calculate_avg_co2(x, y):\n",
        "  count_x, sum_x = x\n",
        "  count_y, sum_y = y\n",
        "  return count_x + count_y, sum_x + sum_y\n",
        "\n",
        "rdd_mapped = rdd.map(map_data).filter(lambda x: x is not None)\n",
        "rdd_avg_co2 = rdd_mapped \\\n",
        "    .mapValues(lambda x: (1, x)) \\\n",
        "    .reduceByKey(calculate_avg_co2) \\\n",
        "    .mapValues(lambda x: x[1] / x[0])\n",
        "\n",
        "rdd_manufacturer_year_co2 = rdd_avg_co2.map(lambda x: (x[0][0], (x[0][1], x[1])))\n",
        "\n",
        "def calculate_co2_variation(values):\n",
        "  values_sorted = sorted(values, key=lambda x: x[0])\n",
        "  prev_co2 = 0\n",
        "  variations = []\n",
        "  for year, avg_co2 in values_sorted:\n",
        "      if prev_co2 != 0:\n",
        "          variations.append(prev_co2 - avg_co2)\n",
        "      prev_co2 = avg_co2\n",
        "  return variations\n",
        "\n",
        "def calculate_avg_variation(variations):\n",
        "  return sum(variations) / len(variations) if variations else 0\n",
        "\n",
        "rdd_avg_variation = rdd_manufacturer_year_co2 \\\n",
        "    .groupByKey() \\\n",
        "    .mapValues(calculate_co2_variation) \\\n",
        "    .mapValues(calculate_avg_variation)\n",
        "\n",
        "print(\"Média de variação de emissão de CO2 por ano por marca (limit 5):\")\n",
        "rdd_avg_variation.take(5)"
      ],
      "metadata": {
        "colab": {
          "base_uri": "https://localhost:8080/"
        },
        "id": "XCiFC7rDxIK0",
        "outputId": "c13394de-f641-4c66-8570-cbcfb896dc96"
      },
      "execution_count": null,
      "outputs": [
        {
          "output_type": "stream",
          "name": "stdout",
          "text": [
            "Média de variação de emissão de CO2 por ano por marca (limit 5):\n"
          ]
        },
        {
          "output_type": "execute_result",
          "data": {
            "text/plain": [
              "[('Alfa Romeo', 8.199095022624435),\n",
              " ('Aston Martin Lagonda', 12.258461538461535),\n",
              " ('Citroen', 5.543869437857443),\n",
              " ('Daewoo Cars', 9.793939393939393),\n",
              " ('Daihatsu', 1.574825174825176)]"
            ]
          },
          "metadata": {},
          "execution_count": 20
        }
      ]
    }
  ]
}