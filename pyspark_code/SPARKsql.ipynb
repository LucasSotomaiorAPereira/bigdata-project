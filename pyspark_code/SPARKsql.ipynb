{
  "nbformat": 4,
  "nbformat_minor": 0,
  "metadata": {
    "colab": {
      "provenance": []
    },
    "kernelspec": {
      "name": "python3",
      "display_name": "Python 3"
    },
    "language_info": {
      "name": "python"
    }
  },
  "cells": [
    {
      "cell_type": "code",
      "execution_count": null,
      "metadata": {
        "id": "O-Ne6WOYWt5q"
      },
      "outputs": [],
      "source": [
        "import pyspark\n",
        "from pyspark.sql import SparkSession\n",
        "from pyspark.sql.functions import *\n",
        "spark_app = SparkSession.builder.appName('SparkSQL').getOrCreate()"
      ]
    },
    {
      "cell_type": "code",
      "source": [
        "import pandas as pd\n",
        "\n",
        "pandas_df = pd.read_csv(\"/content/CarFuelandEmissions2000_2013.csv\", on_bad_lines='skip', sep=',', engine='python')\n",
        "pandas_df.fillna(0, inplace=True)\n",
        "\n",
        "df = spark_app.createDataFrame(pandas_df)\n",
        "df.show()"
      ],
      "metadata": {
        "colab": {
          "base_uri": "https://localhost:8080/"
        },
        "id": "jiQnCPsPXEPB",
        "outputId": "2c2ddcb4-981d-4fc6-e942-9c4cee33cb64"
      },
      "execution_count": null,
      "outputs": [
        {
          "output_type": "stream",
          "name": "stdout",
          "text": [
            "+--------------------+----+------------+--------------------+------------------+-------------+--------+------------+-----------------+---------------+---------+------------+------------------+---------------+--------------+--------------------+-----------------+-----------+---+-------------+------------+-------------+-----------------+----------------------+---------------------+--------------------+------------------+-----------------+--------------------+-------------------+--------------+\n",
            "|                file|year|manufacturer|               model|       description|euro_standard|tax_band|transmission|transmission_type|engine_capacity|fuel_type|urban_metric|extra_urban_metric|combined_metric|urban_imperial|extra_urban_imperial|combined_imperial|noise_level|co2|thc_emissions|co_emissions|nox_emissions|thc_nox_emissions|particulates_emissions|fuel_cost_12000_miles|fuel_cost_6000_miles|standard_12_months|standard_6_months|first_year_12_months|first_year_6_months|date_of_change|\n",
            "+--------------------+----+------------+--------------------+------------------+-------------+--------+------------+-----------------+---------------+---------+------------+------------------+---------------+--------------+--------------------+-----------------+-----------+---+-------------+------------+-------------+-----------------+----------------------+---------------------+--------------------+------------------+-----------------+--------------------+-------------------+--------------+\n",
            "|DatapartC_july200...|2000|  Alfa Romeo|           145 Range|1.6 Twin Spark 16v|            2|       0|          M5|           Manual|         1598.0|   Petrol|        11.1|               6.5|            8.2|          25.4|                43.5|             34.4|       74.0|195|          0.0|       980.0|          0.0|              0.0|                   0.0|                  0.0|               618.0|               0.0|              0.0|                 0.0|                0.0|             0|\n",
            "|DatapartC_july200...|2000|  Alfa Romeo|           145 Range|1.8 Twin Spark 16v|            2|       0|          M5|           Manual|         1747.0|   Petrol|        11.5|               6.6|            8.4|          24.6|                42.8|             33.6|       74.0|200|          0.0|      1105.0|          0.0|              0.0|                   0.0|                  0.0|               633.0|               0.0|              0.0|                 0.0|                0.0|             0|\n",
            "|DatapartC_july200...|2000|  Alfa Romeo|           145 Range|        Cloverleaf|            2|       0|          M5|           Manual|         1970.0|   Petrol|        12.4|               6.6|            8.8|          22.8|                42.8|             32.1|       74.0|210|          0.0|      1103.0|          0.0|              0.0|                   0.0|                  0.0|               663.0|               0.0|              0.0|                 0.0|                0.0|             0|\n",
            "|DatapartC_july200...|2000|  Alfa Romeo|           146 Range|1.6 Twin Spark 16v|            2|       0|          M5|           Manual|         1598.0|   Petrol|        11.3|               6.6|            8.3|          25.0|                42.8|             34.0|       73.0|195|          0.0|       980.0|          0.0|              0.0|                   0.0|                  0.0|               626.0|               0.0|              0.0|                 0.0|                0.0|             0|\n",
            "|DatapartC_july200...|2000|  Alfa Romeo|           146 Range|1.8 Twin Spark 16v|            2|       0|          M5|           Manual|         1747.0|   Petrol|        11.5|               6.6|            8.4|          24.6|                42.8|             33.6|       74.0|200|          0.0|      1105.0|          0.0|              0.0|                   0.0|                  0.0|               633.0|               0.0|              0.0|                 0.0|                0.0|             0|\n",
            "|DatapartC_july200...|2000|  Alfa Romeo|           146 Range|                Ti|            2|       0|          M5|           Manual|         1970.0|   Petrol|        12.4|               6.6|            8.8|          22.8|                42.8|             32.1|       74.0|210|          0.0|      1103.0|          0.0|              0.0|                   0.0|                  0.0|               663.0|               0.0|              0.0|                 0.0|                0.0|             0|\n",
            "|DatapartC_july200...|2000|  Alfa Romeo|           156 Range|1.6 Twin Spark 16v|            2|       0|          M5|           Manual|         1598.0|   Petrol|        11.4|               6.4|            8.2|          24.8|                44.1|             34.4|       74.0|195|          0.0|       919.0|          0.0|              0.0|                   0.0|                  0.0|               618.0|               0.0|              0.0|                 0.0|                0.0|             0|\n",
            "|DatapartC_july200...|2000|  Alfa Romeo|           156 Range|1.8 Twin Spark 16v|            2|       0|          M5|           Manual|         1747.0|   Petrol|        11.4|               6.4|            8.2|          24.8|                44.1|             34.4|       74.0|195|          0.0|      1069.0|          0.0|              0.0|                   0.0|                  0.0|               618.0|               0.0|              0.0|                 0.0|                0.0|             0|\n",
            "|DatapartC_july200...|2000|  Alfa Romeo|           156 Range|     2.0 Selespeed|            2|       0|        SAT5|        Automatic|         1970.0|   Petrol|        11.7|               6.6|            8.5|          24.1|                42.8|             33.2|       73.5|202|          0.0|      1078.0|          0.0|              0.0|                   0.0|                  0.0|               641.0|               0.0|              0.0|                 0.0|                0.0|             0|\n",
            "|DatapartC_july200...|2000|  Alfa Romeo|           156 Range|2.0 Twin Spark 16v|            2|       0|          M5|           Manual|         1970.0|   Petrol|        11.7|               6.6|            8.5|          24.1|                42.8|             33.2|       73.5|202|          0.0|      1078.0|          0.0|              0.0|                   0.0|                  0.0|               641.0|               0.0|              0.0|                 0.0|                0.0|             0|\n",
            "|DatapartC_july200...|2000|  Alfa Romeo|           156 Range|           2.4 JTD|            2|       0|          M5|           Manual|         2387.0|   Diesel|         8.9|               5.4|            6.7|          31.7|                52.3|             42.2|       74.0|178|          0.0|       666.0|          0.0|              0.0|                 0.062|                  0.0|               517.0|               0.0|              0.0|                 0.0|                0.0|             0|\n",
            "|DatapartC_july200...|2000|  Alfa Romeo|           156 Range|            2.5 V6|            2|       0|          M6|           Manual|         2492.0|   Petrol|        16.5|               8.4|           11.4|          17.1|                33.6|             24.8|       74.0|271|          0.0|      1200.0|          0.0|              0.0|                   0.0|                  0.0|               858.0|               0.0|              0.0|                 0.0|                0.0|             0|\n",
            "|DatapartC_july200...|2000|  Alfa Romeo|           156 Range|   2.5 V6 Q-System|            2|       0|          A4|        Automatic|         2492.0|   Petrol|        17.5|               8.6|           11.9|          16.1|                32.8|             23.7|       71.0|283|          0.0|      1570.0|          0.0|              0.0|                   0.0|                  0.0|               898.0|               0.0|              0.0|                 0.0|                0.0|             0|\n",
            "|DatapartC_july200...|2000|  Alfa Romeo|156 Sportwagon Range|1.6 Twin Spark 16v|            2|       0|          M5|           Manual|         1598.0|   Petrol|        11.5|               6.5|            8.3|          24.6|                43.5|             34.0|       74.0|198|          0.0|      1097.0|          0.0|              0.0|                   0.0|                  0.0|               626.0|               0.0|              0.0|                 0.0|                0.0|             0|\n",
            "|DatapartC_july200...|2000|  Alfa Romeo|156 Sportwagon Range|1.8 Twin Spark 16v|            2|       0|          M5|           Manual|         1747.0|   Petrol|        11.7|               6.4|            8.4|          24.1|                44.1|             33.6|       74.0|199|          0.0|       848.0|          0.0|              0.0|                   0.0|                  0.0|               633.0|               0.0|              0.0|                 0.0|                0.0|             0|\n",
            "|DatapartC_july200...|2000|  Alfa Romeo|156 Sportwagon Range|     2.0 Selespeed|            2|       0|        SAT5|        Automatic|         1970.0|   Petrol|        12.2|               6.8|            8.8|          23.2|                41.5|             32.1|       73.5|209|          0.0|      1296.0|          0.0|              0.0|                   0.0|                  0.0|               663.0|               0.0|              0.0|                 0.0|                0.0|             0|\n",
            "|DatapartC_july200...|2000|  Alfa Romeo|156 Sportwagon Range|2.0 Twin Spark 16v|            2|       0|          M5|           Manual|         1970.0|   Petrol|        12.2|               6.8|            8.8|          23.2|                41.5|             32.1|       73.5|209|          0.0|      1444.0|          0.0|              0.0|                   0.0|                  0.0|               663.0|               0.0|              0.0|                 0.0|                0.0|             0|\n",
            "|DatapartC_july200...|2000|  Alfa Romeo|156 Sportwagon Range|           2.4 JTD|            2|       0|          M5|           Manual|         2387.0|   Diesel|         9.0|               5.6|            6.8|          31.4|                50.4|             41.5|       74.0|180|          0.0|       894.0|          0.0|              0.0|                 0.056|                  0.0|               526.0|               0.0|              0.0|                 0.0|                0.0|             0|\n",
            "|DatapartC_july200...|2000|  Alfa Romeo|156 Sportwagon Range|            2.5 V6|            2|       0|          M6|           Manual|         2492.0|   Petrol|        17.2|               8.6|           11.7|          16.4|                32.8|             24.1|       74.0|280|          0.0|      1518.0|          0.0|              0.0|                   0.0|                  0.0|               883.0|               0.0|              0.0|                 0.0|                0.0|             0|\n",
            "|DatapartC_july200...|2000|  Alfa Romeo|156 Sportwagon Range|   2.5 V6 Q-System|            2|       0|          A4|        Automatic|         2492.0|   Petrol|        17.7|               8.7|           12.0|          16.0|                32.5|             23.5|       71.0|287|          0.0|      1267.0|          0.0|              0.0|                   0.0|                  0.0|               905.0|               0.0|              0.0|                 0.0|                0.0|             0|\n",
            "+--------------------+----+------------+--------------------+------------------+-------------+--------+------------+-----------------+---------------+---------+------------+------------------+---------------+--------------+--------------------+-----------------+-----------+---+-------------+------------+-------------+-----------------+----------------------+---------------------+--------------------+------------------+-----------------+--------------------+-------------------+--------------+\n",
            "only showing top 20 rows\n",
            "\n"
          ]
        }
      ]
    },
    {
      "cell_type": "code",
      "source": [
        "# Emissão total de monoxido de carbono\n",
        "df.select(sum(\"co_emissions\")).show()"
      ],
      "metadata": {
        "id": "Fg9kTnzfXrGy",
        "colab": {
          "base_uri": "https://localhost:8080/"
        },
        "outputId": "84a7b8b4-e0ba-4341-e6a5-dcfaf55a8305"
      },
      "execution_count": null,
      "outputs": [
        {
          "output_type": "stream",
          "name": "stdout",
          "text": [
            "+--------------------+\n",
            "|   sum(co_emissions)|\n",
            "+--------------------+\n",
            "|1.6950839600999996E7|\n",
            "+--------------------+\n",
            "\n"
          ]
        }
      ]
    },
    {
      "cell_type": "code",
      "source": [
        "# Medida de barulho dos carros manuais\n",
        "df.where(df[\"transmission_type\"] == \"Manual\").select(\"noise_level\").agg({\"noise_level\": \"avg\"}).show()"
      ],
      "metadata": {
        "id": "Zcy6GTXPbqNM",
        "colab": {
          "base_uri": "https://localhost:8080/"
        },
        "outputId": "88de7398-56ec-49c1-9837-603f95fd7f4d"
      },
      "execution_count": null,
      "outputs": [
        {
          "output_type": "stream",
          "name": "stdout",
          "text": [
            "+----------------+\n",
            "|avg(noise_level)|\n",
            "+----------------+\n",
            "|72.4058903700387|\n",
            "+----------------+\n",
            "\n"
          ]
        }
      ]
    },
    {
      "cell_type": "code",
      "source": [
        "# Contagem de modelos dos carros\n",
        "df.groupBy(\"model\").count().orderBy(\"model\", ascending=True).show()"
      ],
      "metadata": {
        "id": "LwBcU4VodxKV",
        "colab": {
          "base_uri": "https://localhost:8080/"
        },
        "outputId": "6a226dbb-a208-44bb-ae2f-76b658c63b0a"
      },
      "execution_count": null,
      "outputs": [
        {
          "output_type": "stream",
          "name": "stdout",
          "text": [
            "+--------------------+-----+\n",
            "|               model|count|\n",
            "+--------------------+-----+\n",
            "|  08MY Chrysler 300C|    6|\n",
            "|08MY Chrysler PT ...|    5|\n",
            "|08MY Chrysler Seb...|    3|\n",
            "|08MY Chrysler Voy...|    2|\n",
            "|08MY Jeep Cheroke...|    2|\n",
            "| 08MY Jeep Commander|    2|\n",
            "|08MY Jeep Grand C...|    3|\n",
            "|  08MY Jeep Wrangler|    5|\n",
            "|  09MY Chrysler 300C|    4|\n",
            "|09MY Chrysler Gra...|    2|\n",
            "|09MY Chrysler Seb...|    7|\n",
            "|  09MY Jeep Cherokee|    2|\n",
            "| 09MY Jeep Commander|    1|\n",
            "|   09MY Jeep Compass|    3|\n",
            "|09MY Jeep Grand C...|    2|\n",
            "|  09MY Jeep Wrangler|    5|\n",
            "|1 Series 3-door F...|   77|\n",
            "|1 Series 5-door F...|   33|\n",
            "|1 Series 5-door F...|   82|\n",
            "|1 Series E81/E82/...|  291|\n",
            "+--------------------+-----+\n",
            "only showing top 20 rows\n",
            "\n"
          ]
        }
      ]
    },
    {
      "cell_type": "code",
      "source": [
        "# Media Km/L combinado (Cidade e Rodovia)\n",
        "df.select(\"combined_metric\").agg({\"combined_metric\": \"avg\"}).show()"
      ],
      "metadata": {
        "id": "vnMjCqpYeZPS",
        "colab": {
          "base_uri": "https://localhost:8080/"
        },
        "outputId": "ed1fb803-7b26-49e2-81b1-f563d485337d"
      },
      "execution_count": null,
      "outputs": [
        {
          "output_type": "stream",
          "name": "stdout",
          "text": [
            "+--------------------+\n",
            "|avg(combined_metric)|\n",
            "+--------------------+\n",
            "|   7.720775197205011|\n",
            "+--------------------+\n",
            "\n"
          ]
        }
      ]
    },
    {
      "cell_type": "code",
      "source": [
        "# Tipo de combustível por preço (preço por 12000 milhas e 6000 milhas)\n",
        "df.groupBy(\"fuel_type\").agg({\"fuel_cost_12000_miles\": \"avg\", \"fuel_cost_6000_miles\": \"avg\"}).show()"
      ],
      "metadata": {
        "id": "pH6ogmY5expr",
        "colab": {
          "base_uri": "https://localhost:8080/"
        },
        "outputId": "9b0bf829-b80f-4310-9376-ea5a4db0ff12"
      },
      "execution_count": null,
      "outputs": [
        {
          "output_type": "stream",
          "name": "stdout",
          "text": [
            "+--------------------+--------------------------+-------------------------+\n",
            "|           fuel_type|avg(fuel_cost_12000_miles)|avg(fuel_cost_6000_miles)|\n",
            "+--------------------+--------------------------+-------------------------+\n",
            "|              Diesel|        1118.1072178297404|        86.60656583018219|\n",
            "|     Petrol Electric|        1427.4117647058824|                      0.0|\n",
            "|                 CNG|         70.35483870967742|                      0.0|\n",
            "|       Petrol Hybrid|        1135.9236641221373|       2.7022900763358777|\n",
            "|                 LPG|        277.89115646258506|       238.69387755102042|\n",
            "|        LPG / Petrol|         561.1538461538462|                      0.0|\n",
            "|              Petrol|        1134.8623615362164|       215.23531555166886|\n",
            "|         Electricity|        408.14285714285717|                      0.0|\n",
            "|Petrol / E85 (Fle...|        2024.1176470588234|                      0.0|\n",
            "|     Diesel Electric|        1129.3636363636363|                      0.0|\n",
            "|        Petrol / E85|        1446.2777777777778|                      0.0|\n",
            "|  Electricity/Petrol|                     696.6|                      0.0|\n",
            "|  Electricity/Diesel|                     876.0|                      0.0|\n",
            "+--------------------+--------------------------+-------------------------+\n",
            "\n"
          ]
        }
      ]
    },
    {
      "cell_type": "code",
      "source": [
        "# Taxa de imposto do veiculo (modelo, taxa de imposto padrão para 6 e 12 meses e para os primeiros 6 e 12 meses)\n",
        "df.select(\"model\", \"standard_6_months\", \"standard_12_months\", \"first_year_6_months\", \"first_year_12_months\").distinct().orderBy(\"first_year_6_months\", ascending=False).show()"
      ],
      "metadata": {
        "id": "wbeMEl42fXYJ",
        "colab": {
          "base_uri": "https://localhost:8080/"
        },
        "outputId": "2d94fc5f-3d79-4a18-8038-80de1d3f45d5"
      },
      "execution_count": null,
      "outputs": [
        {
          "output_type": "stream",
          "name": "stdout",
          "text": [
            "+--------------------+-----------------+------------------+-------------------+--------------------+\n",
            "|               model|standard_6_months|standard_12_months|first_year_6_months|first_year_12_months|\n",
            "+--------------------+-----------------+------------------+-------------------+--------------------+\n",
            "|   C30 Model Year 13|             93.5|             170.0|               93.5|               170.0|\n",
            "| XV AWD From 2012 MY|             93.5|             170.0|               93.5|               170.0|\n",
            "|    BRZ From 2012 MY|             93.5|             170.0|               93.5|               170.0|\n",
            "|              207 SW|             93.5|             170.0|               93.5|               170.0|\n",
            "|               Venga|             93.5|             170.0|               93.5|               170.0|\n",
            "|MINI Roadster R59...|             93.5|             170.0|               93.5|               170.0|\n",
            "|Insignia 5 Door S...|             93.5|             170.0|               93.5|               170.0|\n",
            "|Galaxy Model Year...|             93.5|             170.0|               93.5|               170.0|\n",
            "|Kuga Model Year P...|             93.5|             170.0|               93.5|               170.0|\n",
            "|   C70 Model Year 13|             93.5|             170.0|               93.5|               170.0|\n",
            "|Zafira Model Year...|             93.5|             170.0|               93.5|               170.0|\n",
            "|        Cruze MY2011|             93.5|             170.0|               93.5|               170.0|\n",
            "|                Soul|             93.5|             170.0|               93.5|               170.0|\n",
            "|i40 From Septembe...|             93.5|             170.0|               93.5|               170.0|\n",
            "|         Aveo MY2011|             93.5|             170.0|               93.5|               170.0|\n",
            "|            TT Coupé|             93.5|             170.0|               93.5|               170.0|\n",
            "|S-Class Model Yea...|             93.5|             170.0|               93.5|               170.0|\n",
            "|       Passat Saloon|             93.5|             170.0|               93.5|               170.0|\n",
            "|SLK-Class Model Y...|             93.5|             170.0|               93.5|               170.0|\n",
            "| C30 Model Year 2012|             93.5|             170.0|               93.5|               170.0|\n",
            "+--------------------+-----------------+------------------+-------------------+--------------------+\n",
            "only showing top 20 rows\n",
            "\n"
          ]
        }
      ]
    },
    {
      "cell_type": "code",
      "source": [
        "# Carro mais econômico por tipo de combustível\n",
        "df.groupBy(\"fuel_type\").agg(max_by(\"model\", \"combined_metric\").alias(\"model\"), max(\"combined_metric\").alias(\"combined_metric\")).show()"
      ],
      "metadata": {
        "id": "1e2xHo3hf6oB",
        "colab": {
          "base_uri": "https://localhost:8080/"
        },
        "outputId": "02312e67-9fbc-4e97-afca-991d149a8fb0"
      },
      "execution_count": null,
      "outputs": [
        {
          "output_type": "stream",
          "name": "stdout",
          "text": [
            "+--------------------+--------------------+---------------+\n",
            "|           fuel_type|               model|combined_metric|\n",
            "+--------------------+--------------------+---------------+\n",
            "|                 CNG| S80 Model Year 2002|           10.5|\n",
            "|              Diesel|B-Class, Model Ye...|           44.0|\n",
            "|     Diesel Electric|E-Class Estate, M...|            4.5|\n",
            "|         Electricity|                Leaf|            0.0|\n",
            "|  Electricity/Diesel|V60, Model Year 2014|            1.8|\n",
            "|  Electricity/Petrol|               Prius|            2.1|\n",
            "|                 LPG|        Shogun Sport|           16.8|\n",
            "|        LPG / Petrol|      Zafira, MY2005|           11.4|\n",
            "|              Petrol|Diablo Model Year...|           25.4|\n",
            "|        Petrol / E85|9-5 MY2009 5 Door...|           10.6|\n",
            "|Petrol / E85 (Fle...|         Continental|           17.0|\n",
            "|     Petrol Electric|5 Series F10/F11,...|            7.0|\n",
            "|       Petrol Hybrid|           LS MY2011|            9.3|\n",
            "+--------------------+--------------------+---------------+\n",
            "\n"
          ]
        }
      ]
    },
    {
      "cell_type": "code",
      "source": [
        "# Média co2 emitido por marca\n",
        "df.groupBy(\"manufacturer\").agg({\"co2\": \"avg\"}).orderBy(\"avg(co2)\", ascending=False).show()"
      ],
      "metadata": {
        "id": "6-355J8xlz0V",
        "colab": {
          "base_uri": "https://localhost:8080/"
        },
        "outputId": "0db2cf08-ff87-441b-ead6-67e94c6b7714"
      },
      "execution_count": null,
      "outputs": [
        {
          "output_type": "stream",
          "name": "stdout",
          "text": [
            "+--------------------+------------------+\n",
            "|        manufacturer|          avg(co2)|\n",
            "+--------------------+------------------+\n",
            "|         Lamborghini| 476.2135922330097|\n",
            "|      Bentley Motors|             419.5|\n",
            "|             Ferrari| 417.4567901234568|\n",
            "|         Rolls-Royce| 393.7313432835821|\n",
            "|            Maserati| 382.2068965517241|\n",
            "|Aston Martin Lagonda| 371.6190476190476|\n",
            "|              Hummer|             336.5|\n",
            "|            Corvette|316.09615384615387|\n",
            "|               Isuzu| 308.4230769230769|\n",
            "|             McLaren|             279.0|\n",
            "|          Land Rover| 273.0662251655629|\n",
            "|             Porsche| 262.6155115511551|\n",
            "|            Metrocab|258.09090909090907|\n",
            "|                Tata|255.57142857142858|\n",
            "|            Cadillac|254.77906976744185|\n",
            "|            Infiniti| 253.5744680851064|\n",
            "|         Jaguar Cars|249.27373068432672|\n",
            "|       Chrysler Jeep|248.18688524590164|\n",
            "|               Lotus|241.22471910112358|\n",
            "|           SsangYong|230.64880952380952|\n",
            "+--------------------+------------------+\n",
            "only showing top 20 rows\n",
            "\n"
          ]
        }
      ]
    },
    {
      "cell_type": "code",
      "source": [
        "# A maior contagem de Euro Standard\n",
        "euro_standard = df.groupBy(\"euro_standard\").count().orderBy(\"count\", ascending=False)\n",
        "euro_standard.show()"
      ],
      "metadata": {
        "id": "oW69uWBcmMso",
        "colab": {
          "base_uri": "https://localhost:8080/"
        },
        "outputId": "32d753a0-e4d6-4bdf-92ed-2501f03844c3"
      },
      "execution_count": null,
      "outputs": [
        {
          "output_type": "stream",
          "name": "stdout",
          "text": [
            "+-------------+-----+\n",
            "|euro_standard|count|\n",
            "+-------------+-----+\n",
            "|            4|20269|\n",
            "|            5|12271|\n",
            "|            3|10717|\n",
            "|            2| 1865|\n",
            "|            6|  389|\n",
            "+-------------+-----+\n",
            "\n"
          ]
        }
      ]
    },
    {
      "cell_type": "code",
      "source": [
        "# Média de variação de emissão de CO2 pro ano por marca\n",
        "\n",
        "from pyspark.sql.window import Window\n",
        "\n",
        "manufacturer_year = df.groupBy(\"manufacturer\", \"year\").agg({\"co2\": \"avg\"})\n",
        "partition = Window.partitionBy(\"manufacturer\").orderBy(\"year\")\n",
        "co2_variations = manufacturer_year.withColumn(\"previous\", lag(\"avg(co2)\", 1, 0).over(partition)) \\\n",
        ".filter(col(\"previous\") != 0).withColumn(\"co2_variation\", col(\"previous\") - col(\"avg(co2)\"))\n",
        "media_variacao = co2_variations.groupBy(\"manufacturer\").agg({\"co2_variation\": \"avg\"}).orderBy(\"avg(co2_variation)\", ascending=False)\n",
        "media_variacao.show()\n"
      ],
      "metadata": {
        "id": "oXNVLpkCSIuD",
        "colab": {
          "base_uri": "https://localhost:8080/"
        },
        "outputId": "15c64a2a-db93-4da7-d766-5c9832997d8d"
      },
      "execution_count": null,
      "outputs": [
        {
          "output_type": "stream",
          "name": "stdout",
          "text": [
            "+--------------------+------------------+\n",
            "|        manufacturer|avg(co2_variation)|\n",
            "+--------------------+------------------+\n",
            "|         Lamborghini|13.290909090909095|\n",
            "|           SsangYong|12.911111111111113|\n",
            "|      Bentley Motors|12.591666666666669|\n",
            "|Aston Martin Lagonda|12.258461538461535|\n",
            "|           Chevrolet|11.836884555194414|\n",
            "|             Ferrari|11.207692307692307|\n",
            "|            Cadillac|11.136200716845877|\n",
            "|         Daewoo Cars| 9.793939393939393|\n",
            "|          Land Rover| 8.383484162895929|\n",
            "|          Alfa Romeo| 8.199095022624435|\n",
            "|               Lexus| 8.008461538461539|\n",
            "|                 Kia|7.4892906494702896|\n",
            "|       Mercedes-Benz| 6.905844486639189|\n",
            "|                 BMW| 6.744564631536535|\n",
            "|         Jaguar Cars| 6.422485207100592|\n",
            "|            Maserati| 6.291666666666668|\n",
            "|              Toyota| 6.215841236389182|\n",
            "|         Rolls-Royce| 6.102564102564101|\n",
            "|               Dodge| 5.908333333333331|\n",
            "|       Chrysler Jeep| 5.868180882453855|\n",
            "+--------------------+------------------+\n",
            "only showing top 20 rows\n",
            "\n"
          ]
        }
      ]
    }
  ]
}